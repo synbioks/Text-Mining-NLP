{
 "cells": [
  {
   "cell_type": "markdown",
   "id": "7175c0ee",
   "metadata": {},
   "source": [
    "## Getting Started"
   ]
  },
  {
   "cell_type": "code",
   "execution_count": null,
   "id": "afef7763",
   "metadata": {},
   "outputs": [],
   "source": [
    "import os\n",
    "import torch\n",
    "\n",
    "from transformers import BertTokenizer\n",
    "from bertviz.transformers_neuron_view import BertModel as BertvizModel\n",
    "from bertviz.transformers_neuron_view import BertTokenizer as BertvizTokenizer\n",
    "from bertviz.neuron_view import show\n",
    "from bertviz import model_view\n",
    "\n",
    "from models.nets import get_end_to_end_net\n",
    "from utils.utils import read_tsv"
   ]
  },
  {
   "cell_type": "code",
   "execution_count": null,
   "id": "c6dcaaed",
   "metadata": {},
   "outputs": [],
   "source": [
    "bert_state_path = '../weights/biobert_large_v1.1_pubmed_torch'\n",
    "trained_model_path = '../weights/end-to-end-1-fixvalid/best_model_13000'"
   ]
  },
  {
   "cell_type": "code",
   "execution_count": null,
   "id": "8f941f1a",
   "metadata": {},
   "outputs": [],
   "source": [
    "# initialize model and tokenizers\n",
    "net = get_end_to_end_net(\n",
    "    bert_state_path,\n",
    "    1024,\n",
    "    [1024, 1024],\n",
    "    8,\n",
    "    'ReLU'\n",
    ").cpu()\n",
    "net.load_state_dict(torch.load(trained_model_path))\n",
    "net.eval()\n",
    "tokenizer = BertTokenizer(os.path.join(bert_state_path, 'vocab.txt'), do_lower_case=False)"
   ]
  },
  {
   "cell_type": "code",
   "execution_count": null,
   "id": "03d1d8ec",
   "metadata": {},
   "outputs": [],
   "source": [
    "bertviz_net = get_end_to_end_net(\n",
    "    bert_state_path,\n",
    "    1024,\n",
    "    [1024, 1024],\n",
    "    8,\n",
    "    'ReLU'\n",
    ").cpu()\n",
    "bertviz_net.bert = BertvizModel.from_pretrained(bert_state_path)\n",
    "bertviz_net.load_state_dict(torch.load(trained_model_path), strict=False)\n",
    "bertviz_net.eval()\n",
    "bertviz_tokenizer = BertvizTokenizer(os.path.join(bert_state_path, 'vocab.txt'), do_lower_case=False)"
   ]
  },
  {
   "cell_type": "code",
   "execution_count": null,
   "id": "8f1b6cad",
   "metadata": {},
   "outputs": [],
   "source": [
    "# read in datasets\n",
    "data = read_tsv('../data/merged/training/train.txt')"
   ]
  },
  {
   "cell_type": "code",
   "execution_count": null,
   "id": "246bd213",
   "metadata": {},
   "outputs": [],
   "source": [
    "sentence = data[550][2]\n",
    "sentence"
   ]
  },
  {
   "cell_type": "markdown",
   "id": "f32d314f",
   "metadata": {},
   "source": [
    "## Attention Viewer"
   ]
  },
  {
   "cell_type": "code",
   "execution_count": null,
   "id": "677a3161",
   "metadata": {},
   "outputs": [],
   "source": [
    "# sentence = \"Hello World\""
   ]
  },
  {
   "cell_type": "code",
   "execution_count": null,
   "id": "7452dc95",
   "metadata": {
    "scrolled": true
   },
   "outputs": [],
   "source": [
    "show(bertviz_net.bert, 'bert', bertviz_tokenizer, sentence)"
   ]
  },
  {
   "cell_type": "code",
   "execution_count": null,
   "id": "74ffb93f",
   "metadata": {
    "scrolled": true
   },
   "outputs": [],
   "source": [
    "ids = tokenizer.encode(sentence, return_tensors='pt')\n",
    "tokens = tokenizer.convert_ids_to_tokens(ids[0])\n",
    "output = net.bert(ids, output_attentions=True)\n",
    "model_view(output.attentions, tokens, include_layers=[0])"
   ]
  },
  {
   "cell_type": "code",
   "execution_count": null,
   "id": "27aa4d42",
   "metadata": {},
   "outputs": [],
   "source": []
  }
 ],
 "metadata": {
  "kernelspec": {
   "display_name": "Python 3 (ipykernel)",
   "language": "python",
   "name": "python3"
  },
  "language_info": {
   "codemirror_mode": {
    "name": "ipython",
    "version": 3
   },
   "file_extension": ".py",
   "mimetype": "text/x-python",
   "name": "python",
   "nbconvert_exporter": "python",
   "pygments_lexer": "ipython3",
   "version": "3.8.12"
  }
 },
 "nbformat": 4,
 "nbformat_minor": 5
}

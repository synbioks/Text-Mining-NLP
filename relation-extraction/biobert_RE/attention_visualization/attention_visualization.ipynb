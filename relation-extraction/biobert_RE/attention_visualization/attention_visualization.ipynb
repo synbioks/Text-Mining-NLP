{
 "cells": [
  {
   "cell_type": "markdown",
   "id": "7175c0ee",
   "metadata": {},
   "source": [
    "## Getting Started"
   ]
  },
  {
   "cell_type": "code",
   "execution_count": null,
   "id": "e1ce54c7",
   "metadata": {},
   "outputs": [],
   "source": [
    "!pip3 install bertviz"
   ]
  },
  {
   "cell_type": "code",
   "execution_count": null,
   "id": "afef7763",
   "metadata": {},
   "outputs": [],
   "source": [
    "import os\n",
    "import torch\n",
    "\n",
    "from transformers import BertTokenizer\n",
    "from bertviz.transformers_neuron_view import BertModel as BertvizModel\n",
    "from bertviz.transformers_neuron_view import BertTokenizer as BertvizTokenizer\n",
    "from bertviz.neuron_view import show\n",
    "from bertviz import model_view\n",
    "\n",
    "from models.nets import get_end_to_end_net\n",
    "from utils.utils import read_tsv"
   ]
  },
  {
   "cell_type": "markdown",
   "id": "616c07e9",
   "metadata": {},
   "source": [
    "### A more in-depth explanation of how this attention visualization works is written [in this blog post](https://towardsdatascience.com/deconstructing-bert-part-2-visualizing-the-inner-workings-of-attention-60a16d86b5c1?gi=0205807bbbe7)"
   ]
  },
  {
   "cell_type": "code",
   "execution_count": null,
   "id": "c6dcaaed",
   "metadata": {},
   "outputs": [],
   "source": [
    "# read bert models\n",
    "bert_state_path = '../model_weights/biobert_large_v1.1_pubmed_torch'\n",
    "trained_model_path = '../weights/end-to-end-1/best_model_10000'\n",
    "\n",
    "# read in datasets\n",
    "data = read_tsv('../data/merged/training/train.txt')"
   ]
  },
  {
   "cell_type": "code",
   "execution_count": null,
   "id": "246bd213",
   "metadata": {},
   "outputs": [],
   "source": [
    "sentence = data[550][2]\n",
    "sentence"
   ]
  },
  {
   "cell_type": "markdown",
   "id": "f32d314f",
   "metadata": {},
   "source": [
    "## Neuron View\n",
    "\n",
    "The neuron view visualizes individual neurons in the query and key vectors and shows how they are used to compute attention."
   ]
  },
  {
   "cell_type": "code",
   "execution_count": null,
   "id": "03d1d8ec",
   "metadata": {},
   "outputs": [],
   "source": [
    "''' \n",
    "The neuron view is invoked differently than the head view or model view, \n",
    "due to requiring access to the model's query/key vectors, which are not returned through the Huggingface API. \n",
    "It is currently limited to custom versions of BERT, GPT-2, and RoBERTa included with BertViz.\n",
    "'''\n",
    "\n",
    "bertviz_net = get_end_to_end_net(\n",
    "    bert_state_path,\n",
    "    1024,\n",
    "    [1024, 1024],\n",
    "    8,\n",
    "    'ReLU'\n",
    ").cpu()\n",
    "bertviz_net.bert = BertvizModel.from_pretrained(bert_state_path)\n",
    "bertviz_net.load_state_dict(torch.load(trained_model_path), strict=False)\n",
    "bertviz_net.eval()\n",
    "\n",
    "bertviz_tokenizer = BertvizTokenizer(os.path.join(bert_state_path, 'vocab.txt'), do_lower_case=False)"
   ]
  },
  {
   "cell_type": "code",
   "execution_count": null,
   "id": "7452dc95",
   "metadata": {
    "scrolled": true
   },
   "outputs": [],
   "source": [
    "show(bertviz_net.bert, 'bert', bertviz_tokenizer, sentence)"
   ]
  },
  {
   "cell_type": "markdown",
   "id": "379d11ab",
   "metadata": {},
   "source": [
    "## Model View\n",
    "\n",
    "The model view shows a bird's-eye view of attention across all layers and heads."
   ]
  },
  {
   "cell_type": "code",
   "execution_count": null,
   "id": "8f941f1a",
   "metadata": {},
   "outputs": [],
   "source": [
    "''' \n",
    "The model view requires an unmodified instance of the bert model, as the encode/tokenizer functions are missing\n",
    "certain functions in the modified bertviz versions.\n",
    "'''\n",
    "\n",
    "# initialize model and tokenizers\n",
    "net = get_end_to_end_net(\n",
    "    bert_state_path,\n",
    "    1024,\n",
    "    [1024, 1024],\n",
    "    8,\n",
    "    'ReLU'\n",
    ").cpu()\n",
    "net.load_state_dict(torch.load(trained_model_path))\n",
    "net.eval()\n",
    "tokenizer = BertTokenizer(os.path.join(bert_state_path, 'vocab.txt'), do_lower_case=False)"
   ]
  },
  {
   "cell_type": "code",
   "execution_count": null,
   "id": "74ffb93f",
   "metadata": {
    "scrolled": true
   },
   "outputs": [],
   "source": [
    "ids = tokenizer.encode(sentence, return_tensors='pt') # bertviz tokenizer does not support return_tensors\n",
    "tokens = tokenizer.convert_ids_to_tokens(ids[0]) \n",
    "output = net.bert(ids, output_attentions=True) # bertviz net does not support output_attentions\n",
    "model_view(output.attentions, tokens) #,include_layers=[0])"
   ]
  },
  {
   "cell_type": "code",
   "execution_count": null,
   "id": "27aa4d42",
   "metadata": {},
   "outputs": [],
   "source": []
  }
 ],
 "metadata": {
  "kernelspec": {
   "display_name": "Python 3 (ipykernel)",
   "language": "python",
   "name": "python3"
  },
  "language_info": {
   "codemirror_mode": {
    "name": "ipython",
    "version": 3
   },
   "file_extension": ".py",
   "mimetype": "text/x-python",
   "name": "python",
   "nbconvert_exporter": "python",
   "pygments_lexer": "ipython3",
   "version": "3.9.7"
  }
 },
 "nbformat": 4,
 "nbformat_minor": 5
}

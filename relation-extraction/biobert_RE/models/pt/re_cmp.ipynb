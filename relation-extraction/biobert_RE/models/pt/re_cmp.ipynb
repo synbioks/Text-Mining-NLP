{
 "cells": [
  {
   "cell_type": "code",
   "execution_count": 15,
   "id": "b3c87165",
   "metadata": {},
   "outputs": [],
   "source": [
    "import os\n",
    "import re"
   ]
  },
  {
   "cell_type": "code",
   "execution_count": 16,
   "id": "8d88d13e",
   "metadata": {},
   "outputs": [],
   "source": [
    "pred_dir = \"../../datasets/acs-20210530-gold\"\n",
    "target_dir = \"../../datasets/acs-20210530-gold-target\""
   ]
  },
  {
   "cell_type": "code",
   "execution_count": 17,
   "id": "6754d0e7",
   "metadata": {},
   "outputs": [],
   "source": [
    "def extract_relations(ann_path):\n",
    "    res = []\n",
    "    with open(ann_path, \"r\") as fin:\n",
    "        for line in fin:\n",
    "            items = line.strip().split(\"\\t\")\n",
    "            if items[0].startswith(\"R\"):\n",
    "                match = re.match(\"(.*) Arg1:(.*) Arg2:(.*)\", items[1])\n",
    "                res.append({\n",
    "                    \"id\": items[0],\n",
    "                    \"type\": match[1],\n",
    "                    \"entities\": (match[2], match[3])\n",
    "                })\n",
    "    return res"
   ]
  },
  {
   "cell_type": "code",
   "execution_count": 29,
   "id": "2dcff103",
   "metadata": {},
   "outputs": [
    {
     "data": {
      "text/plain": [
       "28"
      ]
     },
     "execution_count": 29,
     "metadata": {},
     "output_type": "execute_result"
    }
   ],
   "source": [
    "len(extract_relations(os.path.join(pred_dir, \"sb300091d/sb300091d.ann\")))"
   ]
  },
  {
   "cell_type": "code",
   "execution_count": 34,
   "id": "841ce820",
   "metadata": {},
   "outputs": [
    {
     "data": {
      "text/plain": [
       "45"
      ]
     },
     "execution_count": 34,
     "metadata": {},
     "output_type": "execute_result"
    }
   ],
   "source": [
    "len(extract_relations(os.path.join(target_dir, \"sb300091d/sb300091d.ann\")))"
   ]
  },
  {
   "cell_type": "code",
   "execution_count": 52,
   "id": "abf4b991",
   "metadata": {},
   "outputs": [],
   "source": [
    "def evaluate(pub_num):\n",
    "    pred = extract_relations(os.path.join(pred_dir, f\"{pub_num}/{pub_num}.ann\"))\n",
    "    target = extract_relations(os.path.join(target_dir, f\"{pub_num}/{pub_num}.ann\"))\n",
    "    pred = {x[\"entities\"]: x[\"type\"] for x in pred}\n",
    "    target = {x[\"entities\"]: x[\"type\"] for x in target}\n",
    "    not_in_target = 0\n",
    "    not_found = len(target)\n",
    "    print(not_found)\n",
    "    found_correct = 0\n",
    "    found_incorrect = 0\n",
    "    for pk, pv in pred.items():\n",
    "        if pk in target or (pk[1], pk[0]) in target:\n",
    "            try:\n",
    "                tv = target[pk]\n",
    "            except:\n",
    "                tv = target[(pk[1], pk[0])]\n",
    "            if pv == tv:\n",
    "                found_correct += 1\n",
    "            else:\n",
    "                found_incorrect += 1\n",
    "            not_found -= 1\n",
    "        else:\n",
    "            not_in_target += 1\n",
    "    print(f\"# of predictions found in target and correct:\\t\\t{found_correct}\")\n",
    "    print(f\"# of predictions found in target but incorrect:\\t\\t{found_incorrect}\")\n",
    "    print(f\"# predictions not found in target (false positive):\\t{not_in_target}\")\n",
    "    print(f\"# targets not found in prediction (false negative):\\t{not_found}\")"
   ]
  },
  {
   "cell_type": "code",
   "execution_count": 53,
   "id": "783b480b",
   "metadata": {},
   "outputs": [
    {
     "name": "stdout",
     "output_type": "stream",
     "text": [
      "45\n",
      "# of predictions found in target and correct:\t\t22\n",
      "# of predictions found in target but incorrect:\t\t1\n",
      "# predictions not found in target (false positive):\t5\n",
      "# targets not found in prediction (false negative):\t22\n"
     ]
    }
   ],
   "source": [
    "evaluate(\"sb300091d\")"
   ]
  },
  {
   "cell_type": "code",
   "execution_count": 54,
   "id": "7d79fd41",
   "metadata": {},
   "outputs": [
    {
     "name": "stdout",
     "output_type": "stream",
     "text": [
      "151\n",
      "# of predictions found in target and correct:\t\t78\n",
      "# of predictions found in target but incorrect:\t\t4\n",
      "# predictions not found in target (false positive):\t34\n",
      "# targets not found in prediction (false negative):\t69\n"
     ]
    }
   ],
   "source": [
    "evaluate(\"sb4001382\")"
   ]
  },
  {
   "cell_type": "code",
   "execution_count": null,
   "id": "141dc330",
   "metadata": {},
   "outputs": [],
   "source": []
  }
 ],
 "metadata": {
  "kernelspec": {
   "display_name": "Python 3",
   "language": "python",
   "name": "python3"
  },
  "language_info": {
   "codemirror_mode": {
    "name": "ipython",
    "version": 3
   },
   "file_extension": ".py",
   "mimetype": "text/x-python",
   "name": "python",
   "nbconvert_exporter": "python",
   "pygments_lexer": "ipython3",
   "version": "3.7.7"
  }
 },
 "nbformat": 4,
 "nbformat_minor": 5
}

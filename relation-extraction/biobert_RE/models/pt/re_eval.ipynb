{
 "cells": [
  {
   "cell_type": "code",
   "execution_count": 1,
   "id": "b3c87165",
   "metadata": {},
   "outputs": [],
   "source": [
    "import os\n",
    "import re\n",
    "from pprint import pprint"
   ]
  },
  {
   "cell_type": "code",
   "execution_count": 2,
   "id": "6754d0e7",
   "metadata": {},
   "outputs": [],
   "source": [
    "# helper to parse the ann files\n",
    "def extract_relations(ann_path):\n",
    "    res = []\n",
    "    with open(ann_path, \"r\") as fin:\n",
    "        for line in fin:\n",
    "            items = line.strip().split(\"\\t\")\n",
    "            if items[0].startswith(\"R\"):\n",
    "                match = re.match(\"(.*) Arg1:(.*) Arg2:(.*)\", items[1])\n",
    "                res.append({\n",
    "                    \"id\": items[0],\n",
    "                    \"type\": match[1],\n",
    "                    \"entities\": (match[2], match[3]) if match[2] < match[3] else (match[3], match[2])\n",
    "                })\n",
    "    return res"
   ]
  },
  {
   "cell_type": "code",
   "execution_count": 3,
   "id": "96589c1a",
   "metadata": {},
   "outputs": [],
   "source": [
    "def freq_counter(data, key):\n",
    "    res = {}\n",
    "    for item in data:\n",
    "        k = key(item)\n",
    "        if k not in res:\n",
    "            res[k] = 0\n",
    "        res[k] += 1\n",
    "    return res"
   ]
  },
  {
   "cell_type": "code",
   "execution_count": 4,
   "id": "abf4b991",
   "metadata": {},
   "outputs": [],
   "source": [
    "# evaluate the biobert prediction against the annotated results\n",
    "def evaluate(pred_dir, target_dir, pub_num):\n",
    "    pred = extract_relations(os.path.join(pred_dir, f\"{pub_num}/{pub_num}.ann\"))\n",
    "    target = extract_relations(os.path.join(target_dir, f\"{pub_num}/{pub_num}.ann\"))\n",
    "    pred = {x[\"entities\"]: x[\"type\"] for x in pred}\n",
    "    target = {x[\"entities\"]: x[\"type\"] for x in target}\n",
    "    \n",
    "    not_in_target = 0\n",
    "    not_in_target_list = []\n",
    "    not_found = len(target)\n",
    "    not_found_list = []\n",
    "    found_correct = 0\n",
    "    found_correct_list = []\n",
    "    found_incorrect = 0\n",
    "    found_incorrect_list = []\n",
    "    \n",
    "    for pk, pv in pred.items():\n",
    "        if pk in target or (pk[1], pk[0]) in target:\n",
    "            tv = target[pk]\n",
    "            tk = pk\n",
    "            if pv == tv:\n",
    "                found_correct += 1\n",
    "                found_correct_list.append((pk, pv, tk, tv))\n",
    "            else:\n",
    "                found_incorrect += 1\n",
    "                found_incorrect_list.append((pk, pv, tk, tv))\n",
    "            del target[tk]\n",
    "            not_found -= 1\n",
    "        else:\n",
    "            not_in_target += 1\n",
    "            not_in_target_list.append((pk, pv))\n",
    "            \n",
    "    print(f\"\\n# correct predictions:\\t{found_correct}\")\n",
    "    pprint(freq_counter(found_correct_list, lambda x: x[1]))\n",
    "    print(f\"\\n# incorrect predictions:\\t{found_incorrect}\")\n",
    "    pprint(freq_counter(found_incorrect_list, lambda x: (x[1], x[3])))\n",
    "    print(f\"\\n# extra predictions (false positive):\\t{not_in_target}\")\n",
    "    pprint(freq_counter(not_in_target_list, lambda x: x[1]))\n",
    "    print(f\"\\n# targets not found (false negative):\\t{not_found}\")\n",
    "    pprint(freq_counter([(k, v) for k, v in target.items()], lambda x: x[1]))"
   ]
  },
  {
   "cell_type": "code",
   "execution_count": 5,
   "id": "7d79fd41",
   "metadata": {
    "scrolled": true
   },
   "outputs": [
    {
     "name": "stdout",
     "output_type": "stream",
     "text": [
      "\n",
      "# correct predictions:\t24\n",
      "{'DownRegulator': 1, 'Substrate': 17, 'UpRegulator': 6}\n",
      "\n",
      "# incorrect predictions:\t1\n",
      "{('Substrate', 'UpRegulator'): 1}\n",
      "\n",
      "# extra predictions (false positive):\t3\n",
      "{'Substrate': 3}\n",
      "\n",
      "# targets not found (false negative):\t23\n",
      "{'DownRegulator': 1, 'Substrate': 5, 'UpRegulator': 17}\n",
      "\n",
      "\n",
      "# correct predictions:\t95\n",
      "{'DownRegulator': 24, 'Substrate': 71}\n",
      "\n",
      "# incorrect predictions:\t3\n",
      "{('Substrate', 'DownRegulator'): 3}\n",
      "\n",
      "# extra predictions (false positive):\t18\n",
      "{'DownRegulator': 4, 'Substrate': 14}\n",
      "\n",
      "# targets not found (false negative):\t70\n",
      "{'DownRegulator': 13, 'Substrate': 56, 'UpRegulator': 1}\n"
     ]
    }
   ],
   "source": [
    "pred_dir = \"/sbksvol/data/acs-data/acs-re/acs-20210530-gold-3layer-e2e-2\"\n",
    "target_dir = \"/sbksvol/data/acs-data/acs-re/acs-20210530-gold-target\"\n",
    "evaluate(pred_dir, target_dir, \"sb300091d\")\n",
    "print()\n",
    "evaluate(pred_dir, target_dir, \"sb4001382\")"
   ]
  },
  {
   "cell_type": "code",
   "execution_count": 9,
   "id": "141dc330",
   "metadata": {},
   "outputs": [
    {
     "name": "stdout",
     "output_type": "stream",
     "text": [
      "\n",
      "# correct predictions:\t18\n",
      "{'DownRegulator': 1, 'Substrate': 12, 'UpRegulator': 5}\n",
      "\n",
      "# incorrect predictions:\t2\n",
      "{('Substrate', 'UpRegulator'): 2}\n",
      "\n",
      "# extra predictions (false positive):\t6\n",
      "{'Substrate': 6}\n",
      "\n",
      "# targets not found (false negative):\t28\n",
      "{'DownRegulator': 1, 'Substrate': 10, 'UpRegulator': 17}\n",
      "\n",
      "\n",
      "# correct predictions:\t101\n",
      "{'DownRegulator': 26, 'Substrate': 75}\n",
      "\n",
      "# incorrect predictions:\t1\n",
      "{('DownRegulator', 'Substrate'): 1}\n",
      "\n",
      "# extra predictions (false positive):\t34\n",
      "{'DownRegulator': 11, 'Substrate': 23}\n",
      "\n",
      "# targets not found (false negative):\t66\n",
      "{'DownRegulator': 14, 'Substrate': 51, 'UpRegulator': 1}\n"
     ]
    }
   ],
   "source": [
    "pred_dir = \"/sbksvol/data/acs-data/acs-re/acs-20210530-gold-3-1024-1\"\n",
    "target_dir = \"/sbksvol/data/acs-data/acs-re/acs-20210530-gold-target\"\n",
    "evaluate(pred_dir, target_dir, \"sb300091d\")\n",
    "print()\n",
    "evaluate(pred_dir, target_dir, \"sb4001382\")"
   ]
  },
  {
   "cell_type": "code",
   "execution_count": 10,
   "id": "89087e11",
   "metadata": {},
   "outputs": [],
   "source": [
    "# not used for evaluation\n",
    "# for labeling false positive and conflicts\n",
    "def get_fp_and_dual(pred_dir, target_dir, pub_num):\n",
    "    pred = extract_relations(os.path.join(pred_dir, f\"{pub_num}/{pub_num}.ann\"))\n",
    "    target = extract_relations(os.path.join(target_dir, f\"{pub_num}/{pub_num}.ann\"))\n",
    "    \n",
    "    def transform(x):\n",
    "        y = {}\n",
    "        for item in x:\n",
    "            ent = item[\"entities\"]\n",
    "            if ent not in y:\n",
    "                y[ent] = {\n",
    "                    \"id\": [],\n",
    "                    \"type\": []\n",
    "                }\n",
    "            y[ent][\"id\"].append(item[\"id\"])\n",
    "            y[ent][\"type\"].append(item[\"type\"])\n",
    "        return y\n",
    "    \n",
    "    target_dict = transform(target)\n",
    "    pred_dict = transform(pred)\n",
    "    \n",
    "    res = []\n",
    "    for pk, pv in pred_dict.items():\n",
    "        if pk not in target_dict:\n",
    "            for rid, rtype in zip(pv[\"id\"], pv[\"type\"]):\n",
    "                res.append({\n",
    "                    \"entities\": pk,\n",
    "                    \"id\": rid,\n",
    "                    \"type\": rtype + \"_biobert\",\n",
    "                })\n",
    "        else:\n",
    "            for rtype in pv[\"type\"]:\n",
    "                tv = target_dict[pk]\n",
    "                if len(tv[\"type\"]) >= 2:\n",
    "                    for rid, rtype in zip(pv[\"id\"], pv[\"type\"]):\n",
    "                        res.append({\n",
    "                            \"entities\": pk,\n",
    "                            \"id\": rid,\n",
    "                            \"type\": rtype + \"_biobert\",\n",
    "                        })\n",
    "                    for rid, rtype in zip(tv[\"id\"], tv[\"type\"]):\n",
    "                        res.append({\n",
    "                            \"entities\": pk,\n",
    "                            \"id\": rid,\n",
    "                            \"type\": rtype,\n",
    "                        })\n",
    "                    break\n",
    "    return res"
   ]
  },
  {
   "cell_type": "code",
   "execution_count": 11,
   "id": "b9a0206c",
   "metadata": {},
   "outputs": [],
   "source": [
    "def to_ann_string(data):\n",
    "    res = []\n",
    "    for i, item in enumerate(data):\n",
    "        res.append(f\"R{i}\\t{item['type']} Arg1:{item['entities'][0]} Arg2:{item['entities'][1]}\")\n",
    "    return \"\\n\".join(res)"
   ]
  },
  {
   "cell_type": "code",
   "execution_count": 13,
   "id": "576b660f",
   "metadata": {},
   "outputs": [
    {
     "name": "stdout",
     "output_type": "stream",
     "text": [
      "R0\tSubstrate_biobert Arg1:T315 Arg2:T952\n",
      "R1\tSubstrate_biobert Arg1:T1016 Arg2:T1119\n",
      "R2\tSubstrate_biobert Arg1:T626 Arg2:T740\n",
      "R3\tSubstrate_biobert Arg1:T664 Arg2:T740\n",
      "R4\tSubstrate_biobert Arg1:T515 Arg2:T96\n",
      "R5\tSubstrate_biobert Arg1:T487 Arg2:T839\n",
      "R6\tSubstrate_biobert Arg1:T661 Arg2:T991\n",
      "R7\tDownRegulator_biobert Arg1:T100 Arg2:T580\n",
      "R8\tSubstrate_biobert Arg1:T131 Arg2:T514\n",
      "R9\tSubstrate_biobert Arg1:T485 Arg2:T920\n",
      "R10\tDownRegulator_biobert Arg1:T151 Arg2:T851\n",
      "R11\tSubstrate_biobert Arg1:T1093 Arg2:T609\n",
      "R12\tDownRegulator_biobert Arg1:T1022 Arg2:T776\n",
      "R13\tSubstrate_biobert Arg1:T394 Arg2:T688\n",
      "R14\tSubstrate_biobert Arg1:T1056 Arg2:T933\n",
      "R15\tSubstrate_biobert Arg1:T181 Arg2:T371\n",
      "R16\tSubstrate_biobert Arg1:T255 Arg2:T310\n",
      "R17\tDownRegulator_biobert Arg1:T475 Arg2:T897\n",
      "\n",
      "R0\tSubstrate_biobert Arg1:T599 Arg2:T682\n",
      "R1\tSubstrate_biobert Arg1:T184 Arg2:T682\n",
      "R2\tSubstrate_biobert Arg1:T67 Arg2:T685\n"
     ]
    }
   ],
   "source": [
    "pred_dir = \"/sbksvol/data/acs-data/acs-re/acs-20210530-gold-3layer-e2e-2\"\n",
    "target_dir = \"/sbksvol/data/acs-data/acs-re/acs-20210530-gold-target\"\n",
    "print(to_ann_string(get_fp_and_dual(pred_dir, target_dir, \"sb4001382\")))\n",
    "print()\n",
    "print(to_ann_string(get_fp_and_dual(pred_dir, target_dir, \"sb300091d\")))"
   ]
  },
  {
   "cell_type": "code",
   "execution_count": null,
   "id": "02d4ac7f",
   "metadata": {},
   "outputs": [],
   "source": []
  },
  {
   "cell_type": "code",
   "execution_count": null,
   "id": "0fa7597a",
   "metadata": {},
   "outputs": [],
   "source": []
  },
  {
   "cell_type": "code",
   "execution_count": null,
   "id": "7b37d2a3",
   "metadata": {},
   "outputs": [],
   "source": []
  },
  {
   "cell_type": "code",
   "execution_count": null,
   "id": "cbc6aee0",
   "metadata": {},
   "outputs": [],
   "source": []
  }
 ],
 "metadata": {
  "kernelspec": {
   "display_name": "Python 3",
   "language": "python",
   "name": "python3"
  },
  "language_info": {
   "codemirror_mode": {
    "name": "ipython",
    "version": 3
   },
   "file_extension": ".py",
   "mimetype": "text/x-python",
   "name": "python",
   "nbconvert_exporter": "python",
   "pygments_lexer": "ipython3",
   "version": "3.7.7"
  }
 },
 "nbformat": 4,
 "nbformat_minor": 5
}

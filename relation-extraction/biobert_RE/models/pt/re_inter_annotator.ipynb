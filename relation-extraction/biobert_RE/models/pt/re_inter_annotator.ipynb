{
 "cells": [
  {
   "cell_type": "code",
   "execution_count": 23,
   "id": "b3c87165",
   "metadata": {},
   "outputs": [],
   "source": [
    "import os\n",
    "import re\n",
    "from pprint import pprint"
   ]
  },
  {
   "cell_type": "code",
   "execution_count": 24,
   "id": "6754d0e7",
   "metadata": {},
   "outputs": [],
   "source": [
    "# helper to parse the ann files\n",
    "def extract_relations(ann_path):\n",
    "    res = []\n",
    "    with open(ann_path, \"r\") as fin:\n",
    "        for line in fin:\n",
    "            items = line.strip().split(\"\\t\")\n",
    "            if items[0].startswith(\"R\"):\n",
    "                match = re.match(\"(.*) Arg1:(.*) Arg2:(.*)\", items[1])\n",
    "                res.append({\n",
    "                    \"id\": items[0],\n",
    "                    \"type\": match[1],\n",
    "                    \"entities\": (match[2], match[3]) if match[2] < match[3] else (match[3], match[2])\n",
    "                })\n",
    "    return res\n",
    "\n",
    "# helper to parse the ann files\n",
    "def extract_entities_id_to_loc(ann_path):\n",
    "    id_to_loc = {}\n",
    "    with open(ann_path, \"r\") as fin:\n",
    "        for line in fin:\n",
    "            items = line.strip().split(\"\\t\")\n",
    "            if items[0].startswith(\"T\"):\n",
    "                beg, end = (int(items[1].split()[1]), int(items[1].split()[2]))\n",
    "                assert (beg < end)\n",
    "                id_to_loc[items[0]] = (beg, end)\n",
    "    return id_to_loc"
   ]
  },
  {
   "cell_type": "code",
   "execution_count": 25,
   "id": "96589c1a",
   "metadata": {},
   "outputs": [],
   "source": [
    "def freq_counter(data, key):\n",
    "    res = {}\n",
    "    for item in data:\n",
    "        k = key(item)\n",
    "        if k not in res:\n",
    "            res[k] = 0\n",
    "        res[k] += 1\n",
    "    return res"
   ]
  },
  {
   "cell_type": "code",
   "execution_count": 29,
   "id": "abf4b991",
   "metadata": {},
   "outputs": [],
   "source": [
    "# evaluate the biobert prediction against the annotated results\n",
    "def evaluate(pred_dir, target_dir, pub_num, use_loc=False):\n",
    "    pred = extract_relations(os.path.join(pred_dir, f\"{pub_num}/{pub_num}.ann\"))\n",
    "    target = extract_relations(os.path.join(target_dir, f\"{pub_num}/{pub_num}.ann\"))\n",
    "    if use_loc:\n",
    "        pred_id_to_loc   = extract_entities_id_to_loc(os.path.join(pred_dir, f\"{pub_num}/{pub_num}.ann\"))\n",
    "        target_id_to_loc = extract_entities_id_to_loc(os.path.join(target_dir, f\"{pub_num}/{pub_num}.ann\"))\n",
    "        pred   = {(pred_id_to_loc[x[\"entities\"][0]], pred_id_to_loc[x[\"entities\"][1]]):   x[\"type\"] for x in pred}\n",
    "        target = {(target_id_to_loc[x[\"entities\"][0]], target_id_to_loc[x[\"entities\"][1]]): x[\"type\"] for x in target}\n",
    "    else: \n",
    "        pred = {x[\"entities\"]: x[\"type\"] for x in pred}\n",
    "        target = {x[\"entities\"]: x[\"type\"] for x in target}\n",
    "    \n",
    "    not_in_target = 0\n",
    "    not_in_target_list = []\n",
    "    not_found = len(target)\n",
    "    not_found_list = []\n",
    "    found_correct = 0\n",
    "    found_correct_list = []\n",
    "    found_incorrect = 0\n",
    "    found_incorrect_list = []\n",
    "    \n",
    "    for pk, pv in pred.items():\n",
    "        if pk in target or (pk[1], pk[0]) in target:\n",
    "            #print(pk)\n",
    "            #print(pk in target)\n",
    "            #print((pk[1], pk[0]) in target)\n",
    "            tv = target.get(pk, target.get((pk[1], pk[0])))\n",
    "            tk = pk\n",
    "            if pv == tv:\n",
    "                found_correct += 1\n",
    "                found_correct_list.append((pk, pv, tk, tv))\n",
    "            else:\n",
    "                found_incorrect += 1\n",
    "                found_incorrect_list.append((pk, pv, tk, tv))\n",
    "            if tk in target:\n",
    "                del target[tk]\n",
    "            else:\n",
    "                del target[(tk[1], tk[0])]\n",
    "            not_found -= 1\n",
    "        else:\n",
    "            not_in_target += 1\n",
    "            not_in_target_list.append((pk, pv))\n",
    "    \n",
    "    \n",
    "    print(f\"\\n# correct predictions:\\t{found_correct}\")\n",
    "    pprint(freq_counter(found_correct_list, lambda x: x[1]))\n",
    "    print(f\"\\n# incorrect predictions:\\t{found_incorrect}\")\n",
    "    pprint(freq_counter(found_incorrect_list, lambda x: (x[1], x[3])))\n",
    "    print(f\"\\n# extra predictions (false positive):\\t{not_in_target}\")\n",
    "    pprint(freq_counter(not_in_target_list, lambda x: x[1]))\n",
    "    print(f\"\\n# targets not found (false negative):\\t{not_found}\")\n",
    "    not_in_pred_list = [(k, v) for k, v in target.items()]\n",
    "    pprint(freq_counter(not_in_pred_list, lambda x: x[1]))\n",
    "    \n",
    "    return (found_correct_list, found_incorrect_list, \n",
    "            not_in_target_list, not_in_pred_list)"
   ]
  },
  {
   "cell_type": "code",
   "execution_count": null,
   "id": "877a91c7",
   "metadata": {},
   "outputs": [],
   "source": []
  },
  {
   "cell_type": "code",
   "execution_count": null,
   "id": "0b66b857",
   "metadata": {},
   "outputs": [],
   "source": []
  },
  {
   "cell_type": "code",
   "execution_count": 31,
   "id": "7d79fd41",
   "metadata": {
    "scrolled": true
   },
   "outputs": [
    {
     "name": "stdout",
     "output_type": "stream",
     "text": [
      "\n",
      "# correct predictions:\t22\n",
      "{'DownRegulator': 3, 'Substrate': 14, 'UpRegulator': 5}\n",
      "\n",
      "# incorrect predictions:\t0\n",
      "{}\n",
      "\n",
      "# extra predictions (false positive):\t20\n",
      "{'Substrate': 20}\n",
      "\n",
      "# targets not found (false negative):\t7\n",
      "{'Substrate': 7}\n",
      "\n",
      "\n",
      "# correct predictions:\t78\n",
      "{'DownRegulator': 14, 'Substrate': 64}\n",
      "\n",
      "# incorrect predictions:\t0\n",
      "{}\n",
      "\n",
      "# extra predictions (false positive):\t64\n",
      "{'DownRegulator': 12, 'Substrate': 52}\n",
      "\n",
      "# targets not found (false negative):\t69\n",
      "{'DownRegulator': 23, 'Substrate': 46}\n"
     ]
    }
   ],
   "source": [
    "pred_dir   = \"/sbksvol/data/acs-data/acs-data-20210530/acs-20210505-eric\"\n",
    "target_dir = \"/sbksvol/data/acs-data/acs-data-20210530/acs-20210505-kevin\"\n",
    "(found_correct_list, found_incorrect_list, \n",
    " not_in_target_list, not_in_pred_list) = evaluate(pred_dir, target_dir, \"sb300091d\")\n",
    "print()\n",
    "all_lists = evaluate(pred_dir, target_dir, \"sb4001382\")"
   ]
  },
  {
   "cell_type": "code",
   "execution_count": 32,
   "id": "c3389616",
   "metadata": {},
   "outputs": [],
   "source": [
    "found_correct_list.extend(   all_lists[0]);\n",
    "found_incorrect_list.extend( all_lists[1]);\n",
    "not_in_target_list.extend(   all_lists[2]);\n",
    "not_in_pred_list.extend(     all_lists[3]);"
   ]
  },
  {
   "cell_type": "code",
   "execution_count": null,
   "id": "2bdb9cff",
   "metadata": {},
   "outputs": [],
   "source": []
  },
  {
   "cell_type": "code",
   "execution_count": 33,
   "id": "b48ef001",
   "metadata": {
    "scrolled": true
   },
   "outputs": [
    {
     "data": {
      "text/plain": [
       "[(('T7', 'T8'), 'UpRegulator', ('T7', 'T8'), 'UpRegulator'),\n",
       " (('T7', 'T9'), 'UpRegulator', ('T7', 'T9'), 'UpRegulator'),\n",
       " (('T10', 'T7'), 'UpRegulator', ('T10', 'T7'), 'UpRegulator'),\n",
       " (('T61', 'T62'), 'Substrate', ('T61', 'T62'), 'Substrate'),\n",
       " (('T89', 'T90'), 'Substrate', ('T89', 'T90'), 'Substrate'),\n",
       " (('T91', 'T92'), 'DownRegulator', ('T91', 'T92'), 'DownRegulator'),\n",
       " (('T179', 'T180'), 'DownRegulator', ('T179', 'T180'), 'DownRegulator'),\n",
       " (('T191', 'T193'), 'UpRegulator', ('T191', 'T193'), 'UpRegulator'),\n",
       " (('T192', 'T193'), 'UpRegulator', ('T192', 'T193'), 'UpRegulator'),\n",
       " (('T193', 'T195'), 'DownRegulator', ('T193', 'T195'), 'DownRegulator'),\n",
       " (('T202', 'T203'), 'Substrate', ('T202', 'T203'), 'Substrate'),\n",
       " (('T202', 'T204'), 'Substrate', ('T202', 'T204'), 'Substrate'),\n",
       " (('T313', 'T314'), 'Substrate', ('T313', 'T314'), 'Substrate'),\n",
       " (('T371', 'T373'), 'Substrate', ('T371', 'T373'), 'Substrate'),\n",
       " (('T371', 'T374'), 'Substrate', ('T371', 'T374'), 'Substrate'),\n",
       " (('T371', 'T375'), 'Substrate', ('T371', 'T375'), 'Substrate'),\n",
       " (('T409', 'T412'), 'Substrate', ('T409', 'T412'), 'Substrate'),\n",
       " (('T413', 'T416'), 'Substrate', ('T413', 'T416'), 'Substrate'),\n",
       " (('T428', 'T431'), 'Substrate', ('T428', 'T431'), 'Substrate'),\n",
       " (('T489', 'T490'), 'Substrate', ('T489', 'T490'), 'Substrate'),\n",
       " (('T518', 'T520'), 'Substrate', ('T518', 'T520'), 'Substrate'),\n",
       " (('T519', 'T520'), 'Substrate', ('T519', 'T520'), 'Substrate'),\n",
       " (('T73', 'T75'), 'Substrate', ('T73', 'T75'), 'Substrate'),\n",
       " (('T74', 'T75'), 'Substrate', ('T74', 'T75'), 'Substrate'),\n",
       " (('T73', 'T76'), 'Substrate', ('T73', 'T76'), 'Substrate'),\n",
       " (('T74', 'T76'), 'Substrate', ('T74', 'T76'), 'Substrate'),\n",
       " (('T73', 'T77'), 'Substrate', ('T73', 'T77'), 'Substrate'),\n",
       " (('T74', 'T77'), 'Substrate', ('T74', 'T77'), 'Substrate'),\n",
       " (('T77', 'T79'), 'Substrate', ('T77', 'T79'), 'Substrate'),\n",
       " (('T77', 'T80'), 'Substrate', ('T77', 'T80'), 'Substrate'),\n",
       " (('T73', 'T78'), 'Substrate', ('T73', 'T78'), 'Substrate'),\n",
       " (('T74', 'T78'), 'Substrate', ('T74', 'T78'), 'Substrate'),\n",
       " (('T78', 'T79'), 'Substrate', ('T78', 'T79'), 'Substrate'),\n",
       " (('T78', 'T80'), 'Substrate', ('T78', 'T80'), 'Substrate'),\n",
       " (('T79', 'T81'), 'Substrate', ('T79', 'T81'), 'Substrate'),\n",
       " (('T80', 'T81'), 'Substrate', ('T80', 'T81'), 'Substrate'),\n",
       " (('T85', 'T87'), 'Substrate', ('T85', 'T87'), 'Substrate'),\n",
       " (('T85', 'T88'), 'Substrate', ('T85', 'T88'), 'Substrate'),\n",
       " (('T86', 'T87'), 'Substrate', ('T86', 'T87'), 'Substrate'),\n",
       " (('T86', 'T88'), 'Substrate', ('T86', 'T88'), 'Substrate'),\n",
       " (('T87', 'T89'), 'Substrate', ('T87', 'T89'), 'Substrate'),\n",
       " (('T88', 'T89'), 'Substrate', ('T88', 'T89'), 'Substrate'),\n",
       " (('T89', 'T91'), 'Substrate', ('T89', 'T91'), 'Substrate'),\n",
       " (('T87', 'T90'), 'Substrate', ('T87', 'T90'), 'Substrate'),\n",
       " (('T88', 'T90'), 'Substrate', ('T88', 'T90'), 'Substrate'),\n",
       " (('T90', 'T91'), 'Substrate', ('T90', 'T91'), 'Substrate'),\n",
       " (('T91', 'T92'), 'Substrate', ('T91', 'T92'), 'Substrate'),\n",
       " (('T112', 'T113'), 'DownRegulator', ('T112', 'T113'), 'DownRegulator'),\n",
       " (('T113', 'T115'), 'DownRegulator', ('T113', 'T115'), 'DownRegulator'),\n",
       " (('T112', 'T114'), 'DownRegulator', ('T112', 'T114'), 'DownRegulator'),\n",
       " (('T115', 'T116'), 'DownRegulator', ('T115', 'T116'), 'DownRegulator'),\n",
       " (('T125', 'T126'), 'DownRegulator', ('T125', 'T126'), 'DownRegulator'),\n",
       " (('T134', 'T135'), 'DownRegulator', ('T134', 'T135'), 'DownRegulator'),\n",
       " (('T152', 'T153'), 'Substrate', ('T152', 'T153'), 'Substrate'),\n",
       " (('T152', 'T154'), 'Substrate', ('T152', 'T154'), 'Substrate'),\n",
       " (('T152', 'T155'), 'Substrate', ('T152', 'T155'), 'Substrate'),\n",
       " (('T152', 'T156'), 'Substrate', ('T152', 'T156'), 'Substrate'),\n",
       " (('T158', 'T160'), 'Substrate', ('T158', 'T160'), 'Substrate'),\n",
       " (('T159', 'T160'), 'Substrate', ('T159', 'T160'), 'Substrate'),\n",
       " (('T158', 'T161'), 'Substrate', ('T158', 'T161'), 'Substrate'),\n",
       " (('T159', 'T161'), 'Substrate', ('T159', 'T161'), 'Substrate'),\n",
       " (('T161', 'T165'), 'Substrate', ('T161', 'T165'), 'Substrate'),\n",
       " (('T158', 'T162'), 'Substrate', ('T158', 'T162'), 'Substrate'),\n",
       " (('T159', 'T162'), 'Substrate', ('T159', 'T162'), 'Substrate'),\n",
       " (('T162', 'T164'), 'Substrate', ('T162', 'T164'), 'Substrate'),\n",
       " (('T162', 'T165'), 'Substrate', ('T162', 'T165'), 'Substrate'),\n",
       " (('T158', 'T163'), 'Substrate', ('T158', 'T163'), 'Substrate'),\n",
       " (('T159', 'T163'), 'Substrate', ('T159', 'T163'), 'Substrate'),\n",
       " (('T163', 'T164'), 'Substrate', ('T163', 'T164'), 'Substrate'),\n",
       " (('T163', 'T165'), 'Substrate', ('T163', 'T165'), 'Substrate'),\n",
       " (('T174', 'T175'), 'DownRegulator', ('T174', 'T175'), 'DownRegulator'),\n",
       " (('T174', 'T176'), 'DownRegulator', ('T174', 'T176'), 'DownRegulator'),\n",
       " (('T184', 'T186'), 'Substrate', ('T184', 'T186'), 'Substrate'),\n",
       " (('T184', 'T187'), 'Substrate', ('T184', 'T187'), 'Substrate'),\n",
       " (('T184', 'T188'), 'Substrate', ('T184', 'T188'), 'Substrate'),\n",
       " (('T212', 'T213'), 'Substrate', ('T212', 'T213'), 'Substrate'),\n",
       " (('T217', 'T219'), 'Substrate', ('T217', 'T219'), 'Substrate'),\n",
       " (('T221', 'T223'), 'Substrate', ('T221', 'T223'), 'Substrate'),\n",
       " (('T226', 'T227'), 'Substrate', ('T226', 'T227'), 'Substrate'),\n",
       " (('T238', 'T239'), 'Substrate', ('T238', 'T239'), 'Substrate'),\n",
       " (('T261', 'T262'), 'Substrate', ('T261', 'T262'), 'Substrate'),\n",
       " (('T338', 'T339'), 'DownRegulator', ('T338', 'T339'), 'DownRegulator'),\n",
       " (('T373', 'T376'), 'Substrate', ('T373', 'T376'), 'Substrate'),\n",
       " (('T389', 'T390'), 'Substrate', ('T389', 'T390'), 'Substrate'),\n",
       " (('T405', 'T406'), 'DownRegulator', ('T405', 'T406'), 'DownRegulator'),\n",
       " (('T406', 'T407'), 'DownRegulator', ('T406', 'T407'), 'DownRegulator'),\n",
       " (('T407', 'T408'), 'DownRegulator', ('T407', 'T408'), 'DownRegulator'),\n",
       " (('T407', 'T409'), 'Substrate', ('T407', 'T409'), 'Substrate'),\n",
       " (('T565', 'T566'), 'DownRegulator', ('T565', 'T566'), 'DownRegulator'),\n",
       " (('T569', 'T572'), 'Substrate', ('T569', 'T572'), 'Substrate'),\n",
       " (('T569', 'T574'), 'Substrate', ('T569', 'T574'), 'Substrate'),\n",
       " (('T578', 'T581'), 'Substrate', ('T578', 'T581'), 'Substrate'),\n",
       " (('T578', 'T583'), 'Substrate', ('T578', 'T583'), 'Substrate'),\n",
       " (('T635', 'T636'), 'Substrate', ('T635', 'T636'), 'Substrate'),\n",
       " (('T638', 'T639'), 'Substrate', ('T638', 'T639'), 'Substrate'),\n",
       " (('T728', 'T729'), 'Substrate', ('T728', 'T729'), 'Substrate'),\n",
       " (('T766', 'T767'), 'DownRegulator', ('T766', 'T767'), 'DownRegulator'),\n",
       " (('T828', 'T830'), 'Substrate', ('T828', 'T830'), 'Substrate'),\n",
       " (('T828', 'T832'), 'Substrate', ('T828', 'T832'), 'Substrate'),\n",
       " (('T855', 'T856'), 'Substrate', ('T855', 'T856'), 'Substrate')]"
      ]
     },
     "execution_count": 33,
     "metadata": {},
     "output_type": "execute_result"
    }
   ],
   "source": [
    "found_correct_list"
   ]
  },
  {
   "cell_type": "code",
   "execution_count": 35,
   "id": "ea3a288f",
   "metadata": {},
   "outputs": [
    {
     "data": {
      "text/plain": [
       "[]"
      ]
     },
     "execution_count": 35,
     "metadata": {},
     "output_type": "execute_result"
    }
   ],
   "source": [
    "found_incorrect_list"
   ]
  },
  {
   "cell_type": "code",
   "execution_count": 36,
   "id": "bedcbb6b",
   "metadata": {
    "scrolled": true
   },
   "outputs": [
    {
     "data": {
      "text/plain": [
       "[(('T13', 'T716'), 'Substrate'),\n",
       " (('T30', 'T720'), 'Substrate'),\n",
       " (('T31', 'T720'), 'Substrate'),\n",
       " (('T45', 'T722'), 'Substrate'),\n",
       " (('T312', 'T359'), 'Substrate'),\n",
       " (('T358', 'T365'), 'Substrate'),\n",
       " (('T362', 'T365'), 'Substrate'),\n",
       " (('T369', 'T371'), 'Substrate'),\n",
       " (('T369', 'T372'), 'Substrate'),\n",
       " (('T372', 'T373'), 'Substrate'),\n",
       " (('T372', 'T374'), 'Substrate'),\n",
       " (('T372', 'T375'), 'Substrate'),\n",
       " (('T394', 'T699'), 'Substrate'),\n",
       " (('T394', 'T397'), 'Substrate'),\n",
       " (('T699', 'T700'), 'Substrate'),\n",
       " (('T397', 'T700'), 'Substrate'),\n",
       " (('T416', 'T702'), 'Substrate'),\n",
       " (('T478', 'T479'), 'Substrate'),\n",
       " (('T486', 'T488'), 'Substrate'),\n",
       " (('T487', 'T488'), 'Substrate'),\n",
       " (('T884', 'T885'), 'Substrate'),\n",
       " (('T100', 'T897'), 'Substrate'),\n",
       " (('T101', 'T897'), 'Substrate'),\n",
       " (('T112', 'T900'), 'DownRegulator'),\n",
       " (('T115', 'T902'), 'DownRegulator'),\n",
       " (('T148', 'T913'), 'Substrate'),\n",
       " (('T164', 'T29'), 'Substrate'),\n",
       " (('T165', 'T29'), 'Substrate'),\n",
       " (('T167', 'T177'), 'DownRegulator'),\n",
       " (('T186', 'T916'), 'Substrate'),\n",
       " (('T188', 'T916'), 'Substrate'),\n",
       " (('T234', 'T922'), 'Substrate'),\n",
       " (('T235', 'T922'), 'Substrate'),\n",
       " (('T240', 'T242'), 'Substrate'),\n",
       " (('T243', 'T245'), 'Substrate'),\n",
       " (('T250', 'T924'), 'Substrate'),\n",
       " (('T251', 'T924'), 'Substrate'),\n",
       " (('T252', 'T924'), 'Substrate'),\n",
       " (('T261', 'T263'), 'Substrate'),\n",
       " (('T261', 'T264'), 'Substrate'),\n",
       " (('T269', 'T927'), 'Substrate'),\n",
       " (('T269', 'T275'), 'Substrate'),\n",
       " (('T296', 'T943'), 'Substrate'),\n",
       " (('T297', 'T943'), 'Substrate'),\n",
       " (('T329', 'T952'), 'DownRegulator'),\n",
       " (('T399', 'T969'), 'Substrate'),\n",
       " (('T402', 'T971'), 'Substrate'),\n",
       " (('T457', 'T987'), 'Substrate'),\n",
       " (('T479', 'T991'), 'Substrate'),\n",
       " (('T480', 'T991'), 'Substrate'),\n",
       " (('T1011', 'T531'), 'DownRegulator'),\n",
       " (('T1013', 'T543'), 'Substrate'),\n",
       " (('T1015', 'T544'), 'Substrate'),\n",
       " (('T1014', 'T1015'), 'Substrate'),\n",
       " (('T1016', 'T554'), 'DownRegulator'),\n",
       " (('T1017', 'T554'), 'DownRegulator'),\n",
       " (('T554', 'T557'), 'DownRegulator'),\n",
       " (('T1018', 'T558'), 'DownRegulator'),\n",
       " (('T558', 'T560'), 'DownRegulator'),\n",
       " (('T1019', 'T558'), 'DownRegulator'),\n",
       " (('T1021', 'T569'), 'Substrate'),\n",
       " (('T569', 'T575'), 'Substrate'),\n",
       " (('T1024', 'T569'), 'Substrate'),\n",
       " (('T569', 'T576'), 'Substrate'),\n",
       " (('T1020', 'T572'), 'Substrate'),\n",
       " (('T1022', 'T578'), 'Substrate'),\n",
       " (('T578', 'T584'), 'Substrate'),\n",
       " (('T1025', 'T578'), 'Substrate'),\n",
       " (('T578', 'T585'), 'Substrate'),\n",
       " (('T1023', 'T581'), 'Substrate'),\n",
       " (('T1028', 'T595'), 'Substrate'),\n",
       " (('T1029', 'T598'), 'Substrate'),\n",
       " (('T1030', 'T599'), 'Substrate'),\n",
       " (('T1032', 'T604'), 'Substrate'),\n",
       " (('T1036', 'T612'), 'Substrate'),\n",
       " (('T1041', 'T619'), 'Substrate'),\n",
       " (('T1060', 'T686'), 'Substrate'),\n",
       " (('T1060', 'T687'), 'Substrate'),\n",
       " (('T1060', 'T688'), 'Substrate'),\n",
       " (('T1060', 'T689'), 'Substrate'),\n",
       " (('T1071', 'T725'), 'DownRegulator'),\n",
       " (('T1073', 'T728'), 'Substrate'),\n",
       " (('T1074', 'T728'), 'Substrate'),\n",
       " (('T1087', 'T1088'), 'Substrate')]"
      ]
     },
     "execution_count": 36,
     "metadata": {},
     "output_type": "execute_result"
    }
   ],
   "source": [
    "not_in_target_list"
   ]
  },
  {
   "cell_type": "code",
   "execution_count": 37,
   "id": "17d17873",
   "metadata": {
    "scrolled": true
   },
   "outputs": [
    {
     "data": {
      "text/plain": [
       "[(('T277', 'T365'), 'Substrate'),\n",
       " (('T279', 'T365'), 'Substrate'),\n",
       " (('T371', 'T372'), 'Substrate'),\n",
       " (('T307', 'T411'), 'Substrate'),\n",
       " (('T307', 'T412'), 'Substrate'),\n",
       " (('T322', 'T430'), 'Substrate'),\n",
       " (('T322', 'T431'), 'Substrate'),\n",
       " (('T7', 'T8'), 'DownRegulator'),\n",
       " (('T7', 'T9'), 'DownRegulator'),\n",
       " (('T882', 'T884'), 'Substrate'),\n",
       " (('T883', 'T884'), 'Substrate'),\n",
       " (('T69', 'T71'), 'Substrate'),\n",
       " (('T70', 'T71'), 'Substrate'),\n",
       " (('T97', 'T99'), 'Substrate'),\n",
       " (('T98', 'T99'), 'Substrate'),\n",
       " (('T100', 'T892'), 'Substrate'),\n",
       " (('T101', 'T892'), 'Substrate'),\n",
       " (('T115', 'T894'), 'DownRegulator'),\n",
       " (('T148', 'T164'), 'Substrate'),\n",
       " (('T148', 'T165'), 'Substrate'),\n",
       " (('T177', 'T72'), 'DownRegulator'),\n",
       " (('T185', 'T186'), 'Substrate'),\n",
       " (('T185', 'T188'), 'Substrate'),\n",
       " (('T234', 'T910'), 'Substrate'),\n",
       " (('T235', 'T910'), 'Substrate'),\n",
       " (('T22', 'T240'), 'Substrate'),\n",
       " (('T242', 'T243'), 'Substrate'),\n",
       " (('T262', 'T263'), 'Substrate'),\n",
       " (('T262', 'T264'), 'Substrate'),\n",
       " (('T268', 'T269'), 'Substrate'),\n",
       " (('T268', 'T275'), 'Substrate'),\n",
       " (('T329', 'T927'), 'DownRegulator'),\n",
       " (('T399', 'T940'), 'Substrate'),\n",
       " (('T402', 'T943'), 'Substrate'),\n",
       " (('T471', 'T480'), 'Substrate'),\n",
       " (('T528', 'T531'), 'DownRegulator'),\n",
       " (('T529', 'T531'), 'DownRegulator'),\n",
       " (('T530', 'T531'), 'DownRegulator'),\n",
       " (('T534', 'T535'), 'DownRegulator'),\n",
       " (('T534', 'T537'), 'DownRegulator'),\n",
       " (('T536', 'T537'), 'DownRegulator'),\n",
       " (('T502', 'T544'), 'Substrate'),\n",
       " (('T504', 'T554'), 'DownRegulator'),\n",
       " (('T507', 'T554'), 'DownRegulator'),\n",
       " (('T519', 'T554'), 'DownRegulator'),\n",
       " (('T545', 'T558'), 'DownRegulator'),\n",
       " (('T550', 'T558'), 'DownRegulator'),\n",
       " (('T555', 'T558'), 'DownRegulator'),\n",
       " (('T557', 'T569'), 'Substrate'),\n",
       " (('T559', 'T569'), 'Substrate'),\n",
       " (('T560', 'T569'), 'Substrate'),\n",
       " (('T572', 'T580'), 'Substrate'),\n",
       " (('T567', 'T578'), 'Substrate'),\n",
       " (('T571', 'T578'), 'Substrate'),\n",
       " (('T575', 'T578'), 'Substrate'),\n",
       " (('T576', 'T581'), 'Substrate'),\n",
       " (('T595', 'T953'), 'Substrate'),\n",
       " (('T598', 'T954'), 'Substrate'),\n",
       " (('T598', 'T955'), 'Substrate'),\n",
       " (('T599', 'T957'), 'Substrate'),\n",
       " (('T604', 'T959'), 'Substrate'),\n",
       " (('T612', 'T962'), 'Substrate'),\n",
       " (('T619', 'T967'), 'Substrate'),\n",
       " (('T684', 'T686'), 'Substrate'),\n",
       " (('T684', 'T687'), 'Substrate'),\n",
       " (('T684', 'T688'), 'Substrate'),\n",
       " (('T684', 'T689'), 'Substrate'),\n",
       " (('T712', 'T713'), 'DownRegulator'),\n",
       " (('T713', 'T714'), 'DownRegulator'),\n",
       " (('T714', 'T715'), 'DownRegulator'),\n",
       " (('T716', 'T725'), 'DownRegulator'),\n",
       " (('T728', 'T987'), 'Substrate'),\n",
       " (('T724', 'T728'), 'Substrate'),\n",
       " (('T759', 'T996'), 'Substrate'),\n",
       " (('T760', 'T762'), 'DownRegulator'),\n",
       " (('T761', 'T762'), 'DownRegulator')]"
      ]
     },
     "execution_count": 37,
     "metadata": {},
     "output_type": "execute_result"
    }
   ],
   "source": [
    "not_in_pred_list"
   ]
  },
  {
   "cell_type": "code",
   "execution_count": null,
   "id": "8e2c10b3",
   "metadata": {},
   "outputs": [],
   "source": []
  },
  {
   "cell_type": "code",
   "execution_count": 39,
   "id": "76e17f91",
   "metadata": {},
   "outputs": [
    {
     "name": "stdout",
     "output_type": "stream",
     "text": [
      "100 100\n",
      "['Substrate', 'DownRegulator', 'Substrate', 'Substrate', 'Substrate'] ['Substrate', 'DownRegulator', 'Substrate', 'Substrate', 'Substrate']\n",
      "184 184\n",
      "['Substrate', 'DownRegulator', 'Substrate', 'Substrate', 'Substrate'] ['NA', 'NA', 'NA', 'NA', 'NA']\n",
      "260 260\n",
      "['NA', 'NA', 'NA', 'NA', 'NA'] ['Substrate', 'Substrate', 'Substrate', 'DownRegulator', 'DownRegulator']\n"
     ]
    }
   ],
   "source": [
    "y1 , y2 = [], []\n",
    "\n",
    "# start with correct predictions\n",
    "y1.extend([k[1] for k in found_correct_list])\n",
    "y2.extend([k[1] for k in found_correct_list])\n",
    "print(len(y1), len(y2))\n",
    "print(y1[-5:], y2[-5:])\n",
    "\n",
    "# false positives\n",
    "y1.extend([k[1] for k in not_in_target_list])\n",
    "y2.extend([\"NA\" for k in not_in_target_list])\n",
    "print(len(y1), len(y2))\n",
    "print(y1[-5:], y2[-5:])\n",
    "\n",
    "# false negatives\n",
    "y1.extend([\"NA\" for k in not_in_pred_list])\n",
    "y2.extend([k[1] for k in not_in_pred_list])\n",
    "print(len(y1), len(y2))\n",
    "print(y1[-5:], y2[-5:])\n"
   ]
  },
  {
   "cell_type": "code",
   "execution_count": 40,
   "id": "ec6e4ac0",
   "metadata": {},
   "outputs": [
    {
     "data": {
      "text/plain": [
       "-0.030187464401574937"
      ]
     },
     "execution_count": 40,
     "metadata": {},
     "output_type": "execute_result"
    }
   ],
   "source": [
    "from sklearn.metrics import cohen_kappa_score\n",
    "cohen_kappa_score(y1, y2)"
   ]
  },
  {
   "cell_type": "code",
   "execution_count": null,
   "id": "fbbd89a2",
   "metadata": {},
   "outputs": [],
   "source": []
  },
  {
   "cell_type": "code",
   "execution_count": null,
   "id": "27130d1e",
   "metadata": {},
   "outputs": [],
   "source": []
  },
  {
   "cell_type": "code",
   "execution_count": 51,
   "id": "8194d8b1",
   "metadata": {},
   "outputs": [
    {
     "name": "stdout",
     "output_type": "stream",
     "text": [
      "CHEMPROT\r\n"
     ]
    }
   ],
   "source": [
    "!ls /sbksvol/jiawei/sbks-ucsd/relation-extraction/biobert_RE/datasets/"
   ]
  },
  {
   "cell_type": "code",
   "execution_count": null,
   "id": "dfb54c60",
   "metadata": {},
   "outputs": [],
   "source": []
  },
  {
   "cell_type": "code",
   "execution_count": null,
   "id": "827b9da0",
   "metadata": {},
   "outputs": [],
   "source": []
  },
  {
   "cell_type": "code",
   "execution_count": null,
   "id": "dfb6ecd5",
   "metadata": {},
   "outputs": [],
   "source": []
  },
  {
   "cell_type": "code",
   "execution_count": 6,
   "id": "6c740553",
   "metadata": {
    "scrolled": true
   },
   "outputs": [
    {
     "name": "stdout",
     "output_type": "stream",
     "text": [
      "\n",
      "# correct predictions:\t24\n",
      "{'DownRegulator': 1, 'Substrate': 17, 'UpRegulator': 6}\n",
      "\n",
      "# incorrect predictions:\t1\n",
      "{('Substrate', 'UpRegulator'): 1}\n",
      "\n",
      "# extra predictions (false positive):\t3\n",
      "{'Substrate': 3}\n",
      "\n",
      "# targets not found (false negative):\t23\n",
      "{'DownRegulator': 1, 'Substrate': 5, 'UpRegulator': 17}\n",
      "\n",
      "\n",
      "# correct predictions:\t95\n",
      "{'DownRegulator': 24, 'Substrate': 71}\n",
      "\n",
      "# incorrect predictions:\t3\n",
      "{('Substrate', 'DownRegulator'): 3}\n",
      "\n",
      "# extra predictions (false positive):\t18\n",
      "{'DownRegulator': 4, 'Substrate': 14}\n",
      "\n",
      "# targets not found (false negative):\t70\n",
      "{'DownRegulator': 13, 'Substrate': 56, 'UpRegulator': 1}\n"
     ]
    }
   ],
   "source": [
    "pred_dir   = \"/sbksvol/data/acs-data/acs-re/acs-20210530-gold-3layer-e2e-2\"\n",
    "target_dir = \"/sbksvol/data/acs-data/acs-re/acs-20210530-gold-target\"\n",
    "evaluate(pred_dir, target_dir, \"sb300091d\")\n",
    "print()\n",
    "evaluate(pred_dir, target_dir, \"sb4001382\")"
   ]
  },
  {
   "cell_type": "code",
   "execution_count": null,
   "id": "c94f2e5f",
   "metadata": {},
   "outputs": [],
   "source": []
  },
  {
   "cell_type": "code",
   "execution_count": 7,
   "id": "20c7b04f",
   "metadata": {},
   "outputs": [
    {
     "name": "stdout",
     "output_type": "stream",
     "text": [
      "\n",
      "# correct predictions:\t0\n",
      "{}\n",
      "\n",
      "# incorrect predictions:\t0\n",
      "{}\n",
      "\n",
      "# extra predictions (false positive):\t29\n",
      "{'DownRegulator': 3, 'Substrate': 21, 'UpRegulator': 5}\n",
      "\n",
      "# targets not found (false negative):\t48\n",
      "{'DownRegulator': 2, 'Substrate': 22, 'UpRegulator': 24}\n",
      "**************************************************\n",
      "\n",
      "# correct predictions:\t26\n",
      "{'DownRegulator': 2, 'Substrate': 19, 'UpRegulator': 5}\n",
      "\n",
      "# incorrect predictions:\t1\n",
      "{('Substrate', 'UpRegulator'): 1}\n",
      "\n",
      "# extra predictions (false positive):\t2\n",
      "{'DownRegulator': 1, 'Substrate': 1}\n",
      "\n",
      "# targets not found (false negative):\t21\n",
      "{'Substrate': 3, 'UpRegulator': 18}\n",
      "**************************************************\n",
      "\n",
      "# correct predictions:\t0\n",
      "{}\n",
      "\n",
      "# incorrect predictions:\t0\n",
      "{}\n",
      "\n",
      "# extra predictions (false positive):\t147\n",
      "{'DownRegulator': 37, 'Substrate': 110}\n",
      "\n",
      "# targets not found (false negative):\t168\n",
      "{'DownRegulator': 40, 'Substrate': 127, 'UpRegulator': 1}\n",
      "**************************************************\n",
      "\n",
      "# correct predictions:\t107\n",
      "{'DownRegulator': 30, 'Substrate': 77}\n",
      "\n",
      "# incorrect predictions:\t1\n",
      "{('DownRegulator', 'Substrate'): 1}\n",
      "\n",
      "# extra predictions (false positive):\t39\n",
      "{'DownRegulator': 6, 'Substrate': 33}\n",
      "\n",
      "# targets not found (false negative):\t60\n",
      "{'DownRegulator': 10, 'Substrate': 49, 'UpRegulator': 1}\n"
     ]
    }
   ],
   "source": [
    "pred_dir   = \"/sbksvol/data/acs-data/acs-data-20210530/acs-20210505-kevin\"\n",
    "target_dir = \"/sbksvol/data/acs-data/acs-re/acs-20210530-gold-target\"\n",
    "evaluate(pred_dir, target_dir, \"sb300091d\")\n",
    "print(\"*\" * 50)\n",
    "evaluate(pred_dir, target_dir, \"sb300091d\", use_loc=True)\n",
    "print(\"*\" * 50)\n",
    "evaluate(pred_dir, target_dir, \"sb4001382\")\n",
    "print(\"*\" * 50)\n",
    "evaluate(pred_dir, target_dir, \"sb4001382\", use_loc=True)"
   ]
  },
  {
   "cell_type": "code",
   "execution_count": null,
   "id": "b978a814",
   "metadata": {},
   "outputs": [],
   "source": []
  },
  {
   "cell_type": "code",
   "execution_count": null,
   "id": "f6d89fee",
   "metadata": {},
   "outputs": [],
   "source": []
  },
  {
   "cell_type": "code",
   "execution_count": 8,
   "id": "3ca1920e",
   "metadata": {},
   "outputs": [
    {
     "name": "stdout",
     "output_type": "stream",
     "text": [
      "**************************************************\n",
      "\n",
      "# correct predictions:\t21\n",
      "{'DownRegulator': 2, 'Substrate': 14, 'UpRegulator': 5}\n",
      "\n",
      "# incorrect predictions:\t1\n",
      "{('Substrate', 'UpRegulator'): 1}\n",
      "\n",
      "# extra predictions (false positive):\t20\n",
      "{'DownRegulator': 1, 'Substrate': 19}\n",
      "\n",
      "# targets not found (false negative):\t26\n",
      "{'Substrate': 8, 'UpRegulator': 18}\n",
      "**************************************************\n",
      "**************************************************\n",
      "\n",
      "# correct predictions:\t89\n",
      "{'DownRegulator': 15, 'Substrate': 74}\n",
      "\n",
      "# incorrect predictions:\t1\n",
      "{('DownRegulator', 'Substrate'): 1}\n",
      "\n",
      "# extra predictions (false positive):\t52\n",
      "{'DownRegulator': 10, 'Substrate': 42}\n",
      "\n",
      "# targets not found (false negative):\t78\n",
      "{'DownRegulator': 25, 'Substrate': 52, 'UpRegulator': 1}\n"
     ]
    }
   ],
   "source": [
    "pred_dir   = \"/sbksvol/data/acs-data/acs-data-20210530/acs-20210505-eric\"\n",
    "target_dir = \"/sbksvol/data/acs-data/acs-re/acs-20210530-gold-target\"\n",
    "# evaluate(pred_dir, target_dir, \"sb300091d\")\n",
    "print(\"*\" * 50)\n",
    "evaluate(pred_dir, target_dir, \"sb300091d\", use_loc=True)\n",
    "print(\"*\" * 50)\n",
    "# evaluate(pred_dir, target_dir, \"sb4001382\")\n",
    "print(\"*\" * 50)\n",
    "evaluate(pred_dir, target_dir, \"sb4001382\", use_loc=True)"
   ]
  },
  {
   "cell_type": "markdown",
   "id": "f4717c76",
   "metadata": {},
   "source": [
    "# "
   ]
  },
  {
   "cell_type": "code",
   "execution_count": null,
   "id": "dcb67002",
   "metadata": {},
   "outputs": [],
   "source": []
  },
  {
   "cell_type": "code",
   "execution_count": null,
   "id": "b6df8424",
   "metadata": {},
   "outputs": [],
   "source": []
  },
  {
   "cell_type": "code",
   "execution_count": null,
   "id": "4ef89ac2",
   "metadata": {},
   "outputs": [],
   "source": []
  },
  {
   "cell_type": "code",
   "execution_count": null,
   "id": "8b434d74",
   "metadata": {},
   "outputs": [],
   "source": []
  },
  {
   "cell_type": "code",
   "execution_count": 9,
   "id": "13534535",
   "metadata": {},
   "outputs": [
    {
     "name": "stdout",
     "output_type": "stream",
     "text": [
      "\n",
      "# correct predictions:\t0\n",
      "{}\n",
      "\n",
      "# incorrect predictions:\t0\n",
      "{}\n",
      "\n",
      "# extra predictions (false positive):\t42\n",
      "{'DownRegulator': 3, 'Substrate': 34, 'UpRegulator': 5}\n",
      "\n",
      "# targets not found (false negative):\t48\n",
      "{'DownRegulator': 2, 'Substrate': 22, 'UpRegulator': 24}\n",
      "**************************************************\n",
      "\n",
      "# correct predictions:\t21\n",
      "{'DownRegulator': 2, 'Substrate': 14, 'UpRegulator': 5}\n",
      "\n",
      "# incorrect predictions:\t1\n",
      "{('Substrate', 'UpRegulator'): 1}\n",
      "\n",
      "# extra predictions (false positive):\t20\n",
      "{'DownRegulator': 1, 'Substrate': 19}\n",
      "\n",
      "# targets not found (false negative):\t26\n",
      "{'Substrate': 8, 'UpRegulator': 18}\n",
      "**************************************************\n",
      "\n",
      "# correct predictions:\t0\n",
      "{}\n",
      "\n",
      "# incorrect predictions:\t0\n",
      "{}\n",
      "\n",
      "# extra predictions (false positive):\t142\n",
      "{'DownRegulator': 26, 'Substrate': 116}\n",
      "\n",
      "# targets not found (false negative):\t168\n",
      "{'DownRegulator': 40, 'Substrate': 127, 'UpRegulator': 1}\n",
      "**************************************************\n",
      "\n",
      "# correct predictions:\t89\n",
      "{'DownRegulator': 15, 'Substrate': 74}\n",
      "\n",
      "# incorrect predictions:\t1\n",
      "{('DownRegulator', 'Substrate'): 1}\n",
      "\n",
      "# extra predictions (false positive):\t52\n",
      "{'DownRegulator': 10, 'Substrate': 42}\n",
      "\n",
      "# targets not found (false negative):\t78\n",
      "{'DownRegulator': 25, 'Substrate': 52, 'UpRegulator': 1}\n"
     ]
    }
   ],
   "source": [
    "pred_dir   = \"/sbksvol/data/acs-data/acs-data-20210530/acs-20210505-eric\"\n",
    "target_dir = \"/sbksvol/data/acs-data/acs-re/acs-20210530-gold-target\"\n",
    "evaluate(pred_dir, target_dir, \"sb300091d\")\n",
    "print(\"*\" * 50)\n",
    "evaluate(pred_dir, target_dir, \"sb300091d\", use_loc=True)\n",
    "print(\"*\" * 50)\n",
    "evaluate(pred_dir, target_dir, \"sb4001382\")\n",
    "print(\"*\" * 50)\n",
    "evaluate(pred_dir, target_dir, \"sb4001382\", use_loc=True)"
   ]
  },
  {
   "cell_type": "code",
   "execution_count": null,
   "id": "04cab436",
   "metadata": {},
   "outputs": [],
   "source": []
  },
  {
   "cell_type": "code",
   "execution_count": null,
   "id": "8dd30bcb",
   "metadata": {},
   "outputs": [],
   "source": []
  },
  {
   "cell_type": "code",
   "execution_count": null,
   "id": "0f7df80a",
   "metadata": {},
   "outputs": [],
   "source": []
  },
  {
   "cell_type": "code",
   "execution_count": null,
   "id": "f161c117",
   "metadata": {},
   "outputs": [],
   "source": []
  },
  {
   "cell_type": "code",
   "execution_count": null,
   "id": "93a5c780",
   "metadata": {},
   "outputs": [],
   "source": []
  },
  {
   "cell_type": "code",
   "execution_count": null,
   "id": "3e0e293a",
   "metadata": {},
   "outputs": [],
   "source": []
  },
  {
   "cell_type": "code",
   "execution_count": null,
   "id": "bd1e561b",
   "metadata": {},
   "outputs": [],
   "source": []
  },
  {
   "cell_type": "code",
   "execution_count": null,
   "id": "11d9b540",
   "metadata": {},
   "outputs": [],
   "source": []
  },
  {
   "cell_type": "code",
   "execution_count": 10,
   "id": "ae174728",
   "metadata": {},
   "outputs": [
    {
     "name": "stdout",
     "output_type": "stream",
     "text": [
      "R16\tSubstrate Arg1:T340 Arg2:T57\r",
      "\r\n",
      "R17\tSubstrate Arg1:T232 Arg2:T641\r",
      "\r\n",
      "R18\tSubstrate Arg1:T232 Arg2:T520\r",
      "\r\n",
      "R19\tSubstrate Arg1:T603 Arg2:T436\r",
      "\r\n",
      "R20\tSubstrate Arg1:T624 Arg2:T235\r",
      "\r\n",
      "R21\tSubstrate Arg1:T534 Arg2:T706\r",
      "\r\n",
      "R22\tSubstrate Arg1:T226 Arg2:T706\r",
      "\r\n",
      "R23\tSubstrate Arg1:T263 Arg2:T369\r",
      "\r\n",
      "R24\tSubstrate Arg1:T448 Arg2:T511\r",
      "\r\n",
      "R25\tSubstrate Arg1:T206 Arg2:T511\r",
      "\r\n"
     ]
    }
   ],
   "source": [
    "!tail /sbksvol/data/acs-data/acs-re/acs-20210530-gold-3-1024-1/sb300091d/sb300091d.ann"
   ]
  },
  {
   "cell_type": "code",
   "execution_count": null,
   "id": "9f2439e4",
   "metadata": {},
   "outputs": [],
   "source": []
  },
  {
   "cell_type": "code",
   "execution_count": 11,
   "id": "715bd399",
   "metadata": {},
   "outputs": [
    {
     "name": "stdout",
     "output_type": "stream",
     "text": [
      "T0\tGene 544 572\ttetracycline resistance gene\r\n",
      "T1\tChemical 621 631\tantibiotic\r\n",
      "T2\tChemical 845 863\tdicarboxylic acids\r\n",
      "T3\tChemical 868 876\talcohols\r\n",
      "T4\tSpecies 933 951\tPseudomonas putida\r\n",
      "T5\tSpecies 953 973\tThauera butanivorans\r\n",
      "T6\tSpecies 978 985\tE. coli\r\n",
      "T7\tGene 987 1008\tTranscription factors\r\n",
      "T8\tChemical 1057 1066\tsuccinate\r\n",
      "T9\tChemical 1068 1075\tadipate\r\n"
     ]
    }
   ],
   "source": [
    "!head /sbksvol/data/acs-data/acs-data-20210530/acs-20210505-eric/sb300091d/sb300091d.ann"
   ]
  },
  {
   "cell_type": "code",
   "execution_count": 12,
   "id": "277fbaa2",
   "metadata": {},
   "outputs": [
    {
     "name": "stdout",
     "output_type": "stream",
     "text": [
      "T0\tGene 544 572\ttetracycline resistance gene\r\n",
      "T2\tChemical 845 863\tdicarboxylic acids\r\n",
      "T3\tChemical 868 876\talcohols\r\n",
      "T4\tSpecies 933 951\tPseudomonas putida\r\n",
      "T5\tSpecies 953 973\tThauera butanivorans\r\n",
      "T6\tSpecies 978 985\tE. coli\r\n",
      "T7\tGene 987 1008\tTranscription factors\r\n",
      "T8\tChemical 1057 1066\tsuccinate\r\n",
      "T9\tChemical 1068 1075\tadipate\r\n",
      "T10\tChemical 1080 1089\t1-butanol\r\n"
     ]
    }
   ],
   "source": [
    "!head /sbksvol/data/acs-data/acs-data-20210530/acs-20210505-kevin/sb300091d/sb300091d.ann"
   ]
  },
  {
   "cell_type": "code",
   "execution_count": null,
   "id": "cb65c052",
   "metadata": {},
   "outputs": [],
   "source": []
  },
  {
   "cell_type": "code",
   "execution_count": 13,
   "id": "29dffdd1",
   "metadata": {},
   "outputs": [
    {
     "name": "stdout",
     "output_type": "stream",
     "text": [
      "R32\tSubstrate Arg1:T409 Arg2:T412\r\n",
      "R33\tSubstrate Arg1:T413 Arg2:T416\r\n",
      "R34\tSubstrate Arg1:T702 Arg2:T416\r\n",
      "R35\tSubstrate Arg1:T428 Arg2:T431\r\n",
      "R36\tSubstrate Arg1:T478 Arg2:T479\r\n",
      "R37\tSubstrate Arg1:T486 Arg2:T488\r\n",
      "R38\tSubstrate Arg1:T487 Arg2:T488\r\n",
      "R39\tSubstrate Arg1:T489 Arg2:T490\r\n",
      "R40\tSubstrate Arg1:T518 Arg2:T520\r\n",
      "R41\tSubstrate Arg1:T519 Arg2:T520\r\n"
     ]
    }
   ],
   "source": [
    "!tail /sbksvol/data/acs-data/acs-data-20210530/acs-20210505-eric/sb300091d/sb300091d.ann"
   ]
  },
  {
   "cell_type": "code",
   "execution_count": 14,
   "id": "0174eaf9",
   "metadata": {},
   "outputs": [
    {
     "name": "stdout",
     "output_type": "stream",
     "text": [
      "R19\tSubstrate Arg1:T307 Arg2:T411\r\n",
      "R20\tSubstrate Arg1:T409 Arg2:T412\r\n",
      "R21\tSubstrate Arg1:T307 Arg2:T412\r\n",
      "R22\tSubstrate Arg1:T413 Arg2:T416\r\n",
      "R23\tSubstrate Arg1:T322 Arg2:T430\r\n",
      "R24\tSubstrate Arg1:T428 Arg2:T431\r\n",
      "R25\tSubstrate Arg1:T322 Arg2:T431\r\n",
      "R26\tSubstrate Arg1:T489 Arg2:T490\r\n",
      "R27\tSubstrate Arg1:T518 Arg2:T520\r\n",
      "R28\tSubstrate Arg1:T519 Arg2:T520\r\n"
     ]
    }
   ],
   "source": [
    "!tail /sbksvol/data/acs-data/acs-data-20210530/acs-20210505-kevin/sb300091d/sb300091d.ann"
   ]
  },
  {
   "cell_type": "code",
   "execution_count": null,
   "id": "d248a1f6",
   "metadata": {},
   "outputs": [],
   "source": []
  },
  {
   "cell_type": "code",
   "execution_count": null,
   "id": "47665659",
   "metadata": {},
   "outputs": [],
   "source": []
  },
  {
   "cell_type": "code",
   "execution_count": null,
   "id": "099484bb",
   "metadata": {},
   "outputs": [],
   "source": []
  },
  {
   "cell_type": "code",
   "execution_count": 15,
   "id": "fbdf6df5",
   "metadata": {
    "scrolled": true
   },
   "outputs": [
    {
     "name": "stdout",
     "output_type": "stream",
     "text": [
      "\n",
      "# correct predictions:\t0\n",
      "{}\n",
      "\n",
      "# incorrect predictions:\t0\n",
      "{}\n",
      "\n",
      "# extra predictions (false positive):\t42\n",
      "{'DownRegulator': 3, 'Substrate': 34, 'UpRegulator': 5}\n",
      "\n",
      "# targets not found (false negative):\t26\n",
      "{'DownRegulator': 1, 'Substrate': 20, 'UpRegulator': 5}\n",
      "\n",
      "\n",
      "# correct predictions:\t0\n",
      "{}\n",
      "\n",
      "# incorrect predictions:\t0\n",
      "{}\n",
      "\n",
      "# extra predictions (false positive):\t142\n",
      "{'DownRegulator': 26, 'Substrate': 116}\n",
      "\n",
      "# targets not found (false negative):\t136\n",
      "{'DownRegulator': 38, 'Substrate': 98}\n"
     ]
    }
   ],
   "source": [
    "pred_dir   = \"/sbksvol/data/acs-data/acs-data-20210530/acs-20210505-eric\"\n",
    "target_dir = \"/sbksvol/data/acs-data/acs-re/acs-20210530-gold-3-1024-1\"\n",
    "evaluate(pred_dir, target_dir, \"sb300091d\")\n",
    "print()\n",
    "evaluate(pred_dir, target_dir, \"sb4001382\")"
   ]
  },
  {
   "cell_type": "code",
   "execution_count": null,
   "id": "d845e313",
   "metadata": {},
   "outputs": [],
   "source": []
  },
  {
   "cell_type": "code",
   "execution_count": null,
   "id": "a61440ad",
   "metadata": {},
   "outputs": [],
   "source": []
  },
  {
   "cell_type": "code",
   "execution_count": null,
   "id": "a1459bb3",
   "metadata": {},
   "outputs": [],
   "source": []
  },
  {
   "cell_type": "code",
   "execution_count": null,
   "id": "a1a82eca",
   "metadata": {},
   "outputs": [],
   "source": []
  },
  {
   "cell_type": "code",
   "execution_count": null,
   "id": "cecdf965",
   "metadata": {},
   "outputs": [],
   "source": []
  },
  {
   "cell_type": "code",
   "execution_count": 16,
   "id": "141dc330",
   "metadata": {},
   "outputs": [
    {
     "name": "stdout",
     "output_type": "stream",
     "text": [
      "\n",
      "# correct predictions:\t18\n",
      "{'DownRegulator': 1, 'Substrate': 12, 'UpRegulator': 5}\n",
      "\n",
      "# incorrect predictions:\t2\n",
      "{('Substrate', 'UpRegulator'): 2}\n",
      "\n",
      "# extra predictions (false positive):\t6\n",
      "{'Substrate': 6}\n",
      "\n",
      "# targets not found (false negative):\t28\n",
      "{'DownRegulator': 1, 'Substrate': 10, 'UpRegulator': 17}\n",
      "\n",
      "\n",
      "# correct predictions:\t101\n",
      "{'DownRegulator': 26, 'Substrate': 75}\n",
      "\n",
      "# incorrect predictions:\t1\n",
      "{('DownRegulator', 'Substrate'): 1}\n",
      "\n",
      "# extra predictions (false positive):\t34\n",
      "{'DownRegulator': 11, 'Substrate': 23}\n",
      "\n",
      "# targets not found (false negative):\t66\n",
      "{'DownRegulator': 14, 'Substrate': 51, 'UpRegulator': 1}\n"
     ]
    }
   ],
   "source": [
    "pred_dir = \"/sbksvol/data/acs-data/acs-re/acs-20210530-gold-3-1024-1\"\n",
    "target_dir = \"/sbksvol/data/acs-data/acs-re/acs-20210530-gold-target\"\n",
    "evaluate(pred_dir, target_dir, \"sb300091d\")\n",
    "print()\n",
    "evaluate(pred_dir, target_dir, \"sb4001382\")"
   ]
  },
  {
   "cell_type": "code",
   "execution_count": 17,
   "id": "89087e11",
   "metadata": {},
   "outputs": [],
   "source": [
    "# not used for evaluation\n",
    "# for labeling false positive and conflicts\n",
    "def get_fp_and_dual(pred_dir, target_dir, pub_num):\n",
    "    pred = extract_relations(os.path.join(pred_dir, f\"{pub_num}/{pub_num}.ann\"))\n",
    "    target = extract_relations(os.path.join(target_dir, f\"{pub_num}/{pub_num}.ann\"))\n",
    "    \n",
    "    def transform(x):\n",
    "        y = {}\n",
    "        for item in x:\n",
    "            ent = item[\"entities\"]\n",
    "            if ent not in y:\n",
    "                y[ent] = {\n",
    "                    \"id\": [],\n",
    "                    \"type\": []\n",
    "                }\n",
    "            y[ent][\"id\"].append(item[\"id\"])\n",
    "            y[ent][\"type\"].append(item[\"type\"])\n",
    "        return y\n",
    "    \n",
    "    target_dict = transform(target)\n",
    "    pred_dict = transform(pred)\n",
    "    \n",
    "    res = []\n",
    "    for pk, pv in pred_dict.items():\n",
    "        if pk not in target_dict:\n",
    "            for rid, rtype in zip(pv[\"id\"], pv[\"type\"]):\n",
    "                res.append({\n",
    "                    \"entities\": pk,\n",
    "                    \"id\": rid,\n",
    "                    \"type\": rtype + \"_biobert\",\n",
    "                })\n",
    "        else:\n",
    "            for rtype in pv[\"type\"]:\n",
    "                tv = target_dict[pk]\n",
    "                if len(tv[\"type\"]) >= 2:\n",
    "                    for rid, rtype in zip(pv[\"id\"], pv[\"type\"]):\n",
    "                        res.append({\n",
    "                            \"entities\": pk,\n",
    "                            \"id\": rid,\n",
    "                            \"type\": rtype + \"_biobert\",\n",
    "                        })\n",
    "                    for rid, rtype in zip(tv[\"id\"], tv[\"type\"]):\n",
    "                        res.append({\n",
    "                            \"entities\": pk,\n",
    "                            \"id\": rid,\n",
    "                            \"type\": rtype,\n",
    "                        })\n",
    "                    break\n",
    "    return res"
   ]
  },
  {
   "cell_type": "code",
   "execution_count": 18,
   "id": "b9a0206c",
   "metadata": {},
   "outputs": [],
   "source": [
    "def to_ann_string(data):\n",
    "    res = []\n",
    "    for i, item in enumerate(data):\n",
    "        res.append(f\"R{i}\\t{item['type']} Arg1:{item['entities'][0]} Arg2:{item['entities'][1]}\")\n",
    "    return \"\\n\".join(res)"
   ]
  },
  {
   "cell_type": "code",
   "execution_count": 19,
   "id": "576b660f",
   "metadata": {},
   "outputs": [
    {
     "name": "stdout",
     "output_type": "stream",
     "text": [
      "R0\tSubstrate_biobert Arg1:T315 Arg2:T952\n",
      "R1\tSubstrate_biobert Arg1:T1016 Arg2:T1119\n",
      "R2\tSubstrate_biobert Arg1:T626 Arg2:T740\n",
      "R3\tSubstrate_biobert Arg1:T664 Arg2:T740\n",
      "R4\tSubstrate_biobert Arg1:T515 Arg2:T96\n",
      "R5\tSubstrate_biobert Arg1:T487 Arg2:T839\n",
      "R6\tSubstrate_biobert Arg1:T661 Arg2:T991\n",
      "R7\tDownRegulator_biobert Arg1:T100 Arg2:T580\n",
      "R8\tSubstrate_biobert Arg1:T131 Arg2:T514\n",
      "R9\tSubstrate_biobert Arg1:T485 Arg2:T920\n",
      "R10\tDownRegulator_biobert Arg1:T151 Arg2:T851\n",
      "R11\tSubstrate_biobert Arg1:T1093 Arg2:T609\n",
      "R12\tDownRegulator_biobert Arg1:T1022 Arg2:T776\n",
      "R13\tSubstrate_biobert Arg1:T394 Arg2:T688\n",
      "R14\tSubstrate_biobert Arg1:T1056 Arg2:T933\n",
      "R15\tSubstrate_biobert Arg1:T181 Arg2:T371\n",
      "R16\tSubstrate_biobert Arg1:T255 Arg2:T310\n",
      "R17\tDownRegulator_biobert Arg1:T475 Arg2:T897\n",
      "\n",
      "R0\tSubstrate_biobert Arg1:T599 Arg2:T682\n",
      "R1\tSubstrate_biobert Arg1:T184 Arg2:T682\n",
      "R2\tSubstrate_biobert Arg1:T67 Arg2:T685\n"
     ]
    }
   ],
   "source": [
    "pred_dir = \"/sbksvol/data/acs-data/acs-re/acs-20210530-gold-3layer-e2e-2\"\n",
    "target_dir = \"/sbksvol/data/acs-data/acs-re/acs-20210530-gold-target\"\n",
    "print(to_ann_string(get_fp_and_dual(pred_dir, target_dir, \"sb4001382\")))\n",
    "print()\n",
    "print(to_ann_string(get_fp_and_dual(pred_dir, target_dir, \"sb300091d\")))"
   ]
  },
  {
   "cell_type": "code",
   "execution_count": null,
   "id": "02d4ac7f",
   "metadata": {},
   "outputs": [],
   "source": []
  },
  {
   "cell_type": "code",
   "execution_count": null,
   "id": "0fa7597a",
   "metadata": {},
   "outputs": [],
   "source": []
  },
  {
   "cell_type": "code",
   "execution_count": null,
   "id": "7b37d2a3",
   "metadata": {},
   "outputs": [],
   "source": []
  },
  {
   "cell_type": "code",
   "execution_count": null,
   "id": "8596390f",
   "metadata": {},
   "outputs": [],
   "source": []
  },
  {
   "cell_type": "code",
   "execution_count": null,
   "id": "d61d15d7",
   "metadata": {},
   "outputs": [],
   "source": []
  },
  {
   "cell_type": "code",
   "execution_count": null,
   "id": "ce595fc4",
   "metadata": {},
   "outputs": [],
   "source": []
  },
  {
   "cell_type": "code",
   "execution_count": 20,
   "id": "57750120",
   "metadata": {},
   "outputs": [],
   "source": [
    "xx = extract_entities_id_to_loc(\"/sbksvol/data/acs-data/acs-re/acs-20210530-gold-3layer-e2e-2/sb300091d/sb300091d.ann\")"
   ]
  },
  {
   "cell_type": "code",
   "execution_count": null,
   "id": "f0148082",
   "metadata": {},
   "outputs": [],
   "source": []
  },
  {
   "cell_type": "code",
   "execution_count": null,
   "id": "673f7266",
   "metadata": {},
   "outputs": [],
   "source": []
  },
  {
   "cell_type": "code",
   "execution_count": null,
   "id": "b2d522c1",
   "metadata": {},
   "outputs": [],
   "source": []
  },
  {
   "cell_type": "code",
   "execution_count": null,
   "id": "a710114e",
   "metadata": {},
   "outputs": [],
   "source": []
  },
  {
   "cell_type": "code",
   "execution_count": 21,
   "id": "cbc6aee0",
   "metadata": {},
   "outputs": [],
   "source": [
    "xx = extract_relations(\"/sbksvol/data/acs-data/acs-re/acs-20210530-gold-3layer-e2e-2/sb300091d/sb300091d.ann\")"
   ]
  },
  {
   "cell_type": "code",
   "execution_count": 22,
   "id": "fc14ccd0",
   "metadata": {
    "scrolled": true
   },
   "outputs": [
    {
     "data": {
      "text/plain": [
       "[{'id': 'R0', 'type': 'Substrate', 'entities': ('T599', 'T682')},\n",
       " {'id': 'R1', 'type': 'Substrate', 'entities': ('T184', 'T682')},\n",
       " {'id': 'R2', 'type': 'UpRegulator', 'entities': ('T279', 'T582')},\n",
       " {'id': 'R3', 'type': 'UpRegulator', 'entities': ('T143', 'T279')},\n",
       " {'id': 'R4', 'type': 'UpRegulator', 'entities': ('T140', 'T279')},\n",
       " {'id': 'R5', 'type': 'Substrate', 'entities': ('T67', 'T685')},\n",
       " {'id': 'R6', 'type': 'Substrate', 'entities': ('T227', 'T274')},\n",
       " {'id': 'R7', 'type': 'UpRegulator', 'entities': ('T24', 'T557')},\n",
       " {'id': 'R8', 'type': 'UpRegulator', 'entities': ('T377', 'T598')},\n",
       " {'id': 'R9', 'type': 'DownRegulator', 'entities': ('T104', 'T46')},\n",
       " {'id': 'R10', 'type': 'Substrate', 'entities': ('T328', 'T366')},\n",
       " {'id': 'R11', 'type': 'Substrate', 'entities': ('T287', 'T328')},\n",
       " {'id': 'R12', 'type': 'Substrate', 'entities': ('T458', 'T57')},\n",
       " {'id': 'R13', 'type': 'Substrate', 'entities': ('T340', 'T57')},\n",
       " {'id': 'R14', 'type': 'UpRegulator', 'entities': ('T291', 'T597')},\n",
       " {'id': 'R15', 'type': 'Substrate', 'entities': ('T137', 'T232')},\n",
       " {'id': 'R16', 'type': 'Substrate', 'entities': ('T232', 'T520')},\n",
       " {'id': 'R17', 'type': 'Substrate', 'entities': ('T232', 'T551')},\n",
       " {'id': 'R18', 'type': 'Substrate', 'entities': ('T147', 'T484')},\n",
       " {'id': 'R19', 'type': 'Substrate', 'entities': ('T436', 'T603')},\n",
       " {'id': 'R20', 'type': 'Substrate', 'entities': ('T261', 'T596')},\n",
       " {'id': 'R21', 'type': 'Substrate', 'entities': ('T596', 'T603')},\n",
       " {'id': 'R22', 'type': 'Substrate', 'entities': ('T235', 'T624')},\n",
       " {'id': 'R23', 'type': 'Substrate', 'entities': ('T412', 'T51')},\n",
       " {'id': 'R24', 'type': 'Substrate', 'entities': ('T51', 'T624')},\n",
       " {'id': 'R25', 'type': 'Substrate', 'entities': ('T263', 'T369')},\n",
       " {'id': 'R26', 'type': 'Substrate', 'entities': ('T448', 'T511')},\n",
       " {'id': 'R27', 'type': 'Substrate', 'entities': ('T206', 'T511')}]"
      ]
     },
     "execution_count": 22,
     "metadata": {},
     "output_type": "execute_result"
    }
   ],
   "source": [
    "xx"
   ]
  },
  {
   "cell_type": "code",
   "execution_count": null,
   "id": "f2d2540f",
   "metadata": {},
   "outputs": [],
   "source": []
  },
  {
   "cell_type": "code",
   "execution_count": null,
   "id": "242711ee",
   "metadata": {},
   "outputs": [],
   "source": []
  },
  {
   "cell_type": "code",
   "execution_count": null,
   "id": "208ad1bd",
   "metadata": {},
   "outputs": [],
   "source": []
  },
  {
   "cell_type": "code",
   "execution_count": null,
   "id": "4cb53f57",
   "metadata": {},
   "outputs": [],
   "source": []
  },
  {
   "cell_type": "code",
   "execution_count": null,
   "id": "e31565e0",
   "metadata": {},
   "outputs": [],
   "source": []
  },
  {
   "cell_type": "code",
   "execution_count": null,
   "id": "b9e27fe3",
   "metadata": {},
   "outputs": [],
   "source": []
  },
  {
   "cell_type": "code",
   "execution_count": null,
   "id": "35307215",
   "metadata": {},
   "outputs": [],
   "source": []
  },
  {
   "cell_type": "code",
   "execution_count": null,
   "id": "8de03113",
   "metadata": {},
   "outputs": [],
   "source": []
  },
  {
   "cell_type": "code",
   "execution_count": null,
   "id": "6b91e4c3",
   "metadata": {},
   "outputs": [],
   "source": []
  }
 ],
 "metadata": {
  "kernelspec": {
   "display_name": "Python 3",
   "language": "python",
   "name": "python3"
  },
  "language_info": {
   "codemirror_mode": {
    "name": "ipython",
    "version": 3
   },
   "file_extension": ".py",
   "mimetype": "text/x-python",
   "name": "python",
   "nbconvert_exporter": "python",
   "pygments_lexer": "ipython3",
   "version": "3.7.7"
  }
 },
 "nbformat": 4,
 "nbformat_minor": 5
}
